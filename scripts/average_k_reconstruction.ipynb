{
 "cells": [
  {
   "cell_type": "code",
   "execution_count": 1,
   "metadata": {},
   "outputs": [
    {
     "name": "stderr",
     "output_type": "stream",
     "text": [
      "/home/alex/.local/lib/python3.8/site-packages/tqdm/auto.py:22: TqdmWarning: IProgress not found. Please update jupyter and ipywidgets. See https://ipywidgets.readthedocs.io/en/stable/user_install.html\n",
      "  from .autonotebook import tqdm as notebook_tqdm\n"
     ]
    }
   ],
   "source": [
    "import numpy as np\n",
    "import h5py\n",
    "import matplotlib\n",
    "from matplotlib import pyplot as plt\n",
    "import fastmri\n",
    "from fastmri.data import transforms as T\n",
    "import sys\n",
    "from PIL import Image\n",
    "sys.path.append('../')\n",
    "from utils.common_fcns import *"
   ]
  },
  {
   "cell_type": "code",
   "execution_count": 2,
   "metadata": {},
   "outputs": [
    {
     "name": "stdout",
     "output_type": "stream",
     "text": [
      "Number of Slices for this file: 16\n"
     ]
    }
   ],
   "source": [
    "# Load a scan in\n",
    "data_dir = '../data/multicoil_test/'\n",
    "file = data_dir+'file_brain_AXT2_200_2000482.h5'\n",
    "hf = h5py.File(file)\n",
    "volume_kspace = hf['kspace'][()]\n",
    "n_slices = volume_kspace.shape[0]\n",
    "print('Number of Slices for this file: '+str(n_slices))"
   ]
  },
  {
   "cell_type": "code",
   "execution_count": 7,
   "metadata": {},
   "outputs": [
    {
     "name": "stdout",
     "output_type": "stream",
     "text": [
      "Starting slice: 0\n",
      "Starting slice: 1\n",
      "Starting slice: 2\n",
      "Starting slice: 3\n",
      "Starting slice: 4\n",
      "Starting slice: 5\n",
      "Starting slice: 6\n",
      "Starting slice: 7\n",
      "Starting slice: 8\n",
      "Starting slice: 9\n",
      "Starting slice: 10\n",
      "Starting slice: 11\n",
      "Starting slice: 12\n",
      "Starting slice: 13\n",
      "Starting slice: 14\n",
      "Starting slice: 15\n"
     ]
    }
   ],
   "source": [
    "# Will compute average error over slices in-place\n",
    "N = 3000 #256*256\n",
    "K = np.arange(1, N, 10)\n",
    "error = np.zeros(len(K))\n",
    "\n",
    "# Iterate over all the slices\n",
    "for slice_idx in range(n_slices):\n",
    "    print('Starting slice: '+str(slice_idx))\n",
    "    X_raw = combine_all_coils(volume_kspace,slice_idx)\n",
    "    X = resize_scan(X_raw)\n",
    "    for ii, k in enumerate(K):\n",
    "        error[ii] += evaluate_k(k,X)\n",
    "\n",
    "error = error/n_slices"
   ]
  },
  {
   "cell_type": "code",
   "execution_count": 8,
   "metadata": {},
   "outputs": [
    {
     "data": {
      "image/png": "[encoded data removed]",
      "text/plain": [
       "<Figure size 432x288 with 1 Axes>"
      ]
     },
     "metadata": {
      "needs_background": "light"
     },
     "output_type": "display_data"
    }
   ],
   "source": [
    "plt.plot(K, error)\n",
    "plt.xlabel('k')\n",
    "plt.ylabel('Frobenius Error')\n",
    "plt.title('Average K-Reconstruction Error')\n",
    "plt.show()"
   ]
  },
  {
   "cell_type": "code",
   "execution_count": 9,
   "metadata": {},
   "outputs": [
    {
     "name": "stdout",
     "output_type": "stream",
     "text": [
      "0.04423449013847858\n"
     ]
    }
   ],
   "source": [
    "# Average error for k=3000\n",
    "print(error[-1])"
   ]
  }
 ],
 "metadata": {
  "interpreter": {
   "hash": "916dbcbb3f70747c44a77c7bcd40155683ae19c65e1c03b4aa3499c5328201f1"
  },
  "kernelspec": {
   "display_name": "Python 3.8.10 64-bit",
   "language": "python",
   "name": "python3"
  },
  "language_info": {
   "codemirror_mode": {
    "name": "ipython",
    "version": 3
   },
   "file_extension": ".py",
   "mimetype": "text/x-python",
   "name": "python",
   "nbconvert_exporter": "python",
   "pygments_lexer": "ipython3",
   "version": "3.8.10"
  },
  "orig_nbformat": 4
 },
 "nbformat": 4,
 "nbformat_minor": 2
}
